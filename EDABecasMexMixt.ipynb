{
 "cells": [
  {
   "cell_type": "code",
   "execution_count": 3,
   "id": "49cde628-650b-403d-8bbe-eb4ed47d3daf",
   "metadata": {},
   "outputs": [],
   "source": [
    "#Librerías\n",
    "import pandas as pd\n",
    "import matplotlib.pyplot as plt\n",
    "import chardet"
   ]
  },
  {
   "cell_type": "code",
   "execution_count": 4,
   "id": "7354a397-a9bc-4bc5-8075-424c4e9f4b69",
   "metadata": {},
   "outputs": [],
   "source": [
    "#Obtener el tipo de encode\n",
    "with open(\"dataset.csv\", \"rb\") as file:\n",
    "    raw_data = file.read()\n",
    "    result = chardet.detect(raw_data)\n",
    "    encoding = result['encoding']"
   ]
  },
  {
   "cell_type": "code",
   "execution_count": 5,
   "id": "b37715fa-b5d0-4ed1-9f77-3982b770944f",
   "metadata": {},
   "outputs": [
    {
     "data": {
      "text/html": [
       "<div>\n",
       "<style scoped>\n",
       "    .dataframe tbody tr th:only-of-type {\n",
       "        vertical-align: middle;\n",
       "    }\n",
       "\n",
       "    .dataframe tbody tr th {\n",
       "        vertical-align: top;\n",
       "    }\n",
       "\n",
       "    .dataframe thead th {\n",
       "        text-align: right;\n",
       "    }\n",
       "</style>\n",
       "<table border=\"1\" class=\"dataframe\">\n",
       "  <thead>\n",
       "    <tr style=\"text-align: right;\">\n",
       "      <th></th>\n",
       "      <th>APELLIDO PATERNO</th>\n",
       "      <th>APELLIDO MATERNO</th>\n",
       "      <th>NOMBRE</th>\n",
       "      <th>AREA DE CONOCIMIENTO</th>\n",
       "      <th>NIVEL</th>\n",
       "      <th>INSTITUCION DESTINO</th>\n",
       "      <th>ENTIDAD FEDERATIVA</th>\n",
       "      <th>GENERO</th>\n",
       "    </tr>\n",
       "  </thead>\n",
       "  <tbody>\n",
       "    <tr>\n",
       "      <th>0</th>\n",
       "      <td>FERNANDEZ DE LARA</td>\n",
       "      <td>TORRES</td>\n",
       "      <td>PAOLA AYERIM</td>\n",
       "      <td>III. MEDICINA Y CS. DE LA SALUD</td>\n",
       "      <td>3. ESP</td>\n",
       "      <td>BUAP</td>\n",
       "      <td>PUEBLA</td>\n",
       "      <td>F</td>\n",
       "    </tr>\n",
       "    <tr>\n",
       "      <th>1</th>\n",
       "      <td>CASAS</td>\n",
       "      <td>ACEVEDO</td>\n",
       "      <td>AARON</td>\n",
       "      <td>VII. INGENIERIAS</td>\n",
       "      <td>2. MAE</td>\n",
       "      <td>IT DURANGO</td>\n",
       "      <td>DURANGO</td>\n",
       "      <td>M</td>\n",
       "    </tr>\n",
       "    <tr>\n",
       "      <th>2</th>\n",
       "      <td>ANTONIO</td>\n",
       "      <td>RUIZ</td>\n",
       "      <td>ABIF</td>\n",
       "      <td>VII. INGENIERIAS</td>\n",
       "      <td>2. MAE</td>\n",
       "      <td>SISTEMAS TECNICOS DE CONTROL</td>\n",
       "      <td>PUEBLA</td>\n",
       "      <td>M</td>\n",
       "    </tr>\n",
       "    <tr>\n",
       "      <th>3</th>\n",
       "      <td>MONTALVO</td>\n",
       "      <td>MARTINEZ</td>\n",
       "      <td>ABIGAIL</td>\n",
       "      <td>I. FISICO MATEMATICAS Y CS. DE LA TIERRA</td>\n",
       "      <td>2. MAE</td>\n",
       "      <td>INIFAP</td>\n",
       "      <td>JALISCO</td>\n",
       "      <td>F</td>\n",
       "    </tr>\n",
       "    <tr>\n",
       "      <th>4</th>\n",
       "      <td>COLIN</td>\n",
       "      <td>AGUILAR</td>\n",
       "      <td>ABILENE GISEH</td>\n",
       "      <td>II. BIOLOGIA Y QUIMICA</td>\n",
       "      <td>2. MAE</td>\n",
       "      <td>AGENCIA ALEMANA DE COOPERACION TECNICA-GIZ</td>\n",
       "      <td>BAJA CALIFORNIA SUR</td>\n",
       "      <td>F</td>\n",
       "    </tr>\n",
       "  </tbody>\n",
       "</table>\n",
       "</div>"
      ],
      "text/plain": [
       "    APELLIDO PATERNO APELLIDO MATERNO         NOMBRE  \\\n",
       "0  FERNANDEZ DE LARA           TORRES   PAOLA AYERIM   \n",
       "1              CASAS          ACEVEDO          AARON   \n",
       "2            ANTONIO             RUIZ           ABIF   \n",
       "3           MONTALVO         MARTINEZ        ABIGAIL   \n",
       "4              COLIN          AGUILAR  ABILENE GISEH   \n",
       "\n",
       "                       AREA DE CONOCIMIENTO   NIVEL  \\\n",
       "0           III. MEDICINA Y CS. DE LA SALUD  3. ESP   \n",
       "1                          VII. INGENIERIAS  2. MAE   \n",
       "2                          VII. INGENIERIAS  2. MAE   \n",
       "3  I. FISICO MATEMATICAS Y CS. DE LA TIERRA  2. MAE   \n",
       "4                    II. BIOLOGIA Y QUIMICA  2. MAE   \n",
       "\n",
       "                          INSTITUCION DESTINO   ENTIDAD FEDERATIVA GENERO  \n",
       "0                                        BUAP               PUEBLA      F  \n",
       "1                                  IT DURANGO              DURANGO      M  \n",
       "2                SISTEMAS TECNICOS DE CONTROL               PUEBLA      M  \n",
       "3                                      INIFAP              JALISCO      F  \n",
       "4  AGENCIA ALEMANA DE COOPERACION TECNICA-GIZ  BAJA CALIFORNIA SUR      F  "
      ]
     },
     "execution_count": 5,
     "metadata": {},
     "output_type": "execute_result"
    }
   ],
   "source": [
    "#Cargar dataframe con el encode obtenido.\n",
    "#low_memory para forzar a pandas a cargar el df antes de decidir el tipo de dato\n",
    "df = pd.read_csv(\"dataset.csv\", encoding = encoding, low_memory = False)\n",
    "df.head()"
   ]
  },
  {
   "cell_type": "code",
   "execution_count": 6,
   "id": "e6fcf165-4626-46c3-a5d1-2dd86933f345",
   "metadata": {},
   "outputs": [
    {
     "data": {
      "text/plain": [
       "APELLIDO PATERNO        object\n",
       "APELLIDO MATERNO        object\n",
       "NOMBRE                  object\n",
       "AREA DE CONOCIMIENTO    object\n",
       "NIVEL                   object\n",
       "INSTITUCION DESTINO     object\n",
       "ENTIDAD FEDERATIVA      object\n",
       "GENERO                  object\n",
       "dtype: object"
      ]
     },
     "execution_count": 6,
     "metadata": {},
     "output_type": "execute_result"
    }
   ],
   "source": [
    "#Tipo de valor por columna\n",
    "df.dtypes"
   ]
  },
  {
   "cell_type": "code",
   "execution_count": 7,
   "id": "9e32ba6f-1be0-42ff-9d89-47fbb07b0660",
   "metadata": {},
   "outputs": [
    {
     "name": "stdout",
     "output_type": "stream",
     "text": [
      "Area de conocimiento\n"
     ]
    },
    {
     "data": {
      "text/plain": [
       "array(['III. MEDICINA Y CS. DE LA SALUD', 'VII. INGENIERIAS',\n",
       "       'I. FISICO MATEMATICAS Y CS. DE LA TIERRA',\n",
       "       'II. BIOLOGIA Y QUIMICA', 'IV. HUMANIDADES Y CS. DE LA CONDUCTA',\n",
       "       'VI. BIOTECNOLOGIA Y CS. AGROPECUARIAS', 'V. CIENCIAS SOCIALES',\n",
       "       nan], dtype=object)"
      ]
     },
     "execution_count": 7,
     "metadata": {},
     "output_type": "execute_result"
    }
   ],
   "source": [
    "#Rango de datos unicos por columna\n",
    "print(\"Area de conocimiento\")\n",
    "df['AREA DE CONOCIMIENTO'].unique()"
   ]
  },
  {
   "cell_type": "code",
   "execution_count": 8,
   "id": "72706812-3aab-43bf-a7b4-24ab7a231e4d",
   "metadata": {},
   "outputs": [
    {
     "name": "stdout",
     "output_type": "stream",
     "text": [
      "Nivel\n"
     ]
    },
    {
     "data": {
      "text/plain": [
       "array(['3. ESP', '2. MAE', '1. DOC', nan], dtype=object)"
      ]
     },
     "execution_count": 8,
     "metadata": {},
     "output_type": "execute_result"
    }
   ],
   "source": [
    "print(\"Nivel\")\n",
    "df['NIVEL'].unique()"
   ]
  },
  {
   "cell_type": "code",
   "execution_count": 9,
   "id": "43999962-1ceb-4286-afa5-399641c94f44",
   "metadata": {},
   "outputs": [
    {
     "name": "stdout",
     "output_type": "stream",
     "text": [
      "Ins. Destino\n"
     ]
    },
    {
     "data": {
      "text/plain": [
       "array(['BUAP', 'IT DURANGO', 'SISTEMAS TECNICOS DE CONTROL', 'INIFAP',\n",
       "       'AGENCIA ALEMANA DE COOPERACION TECNICA-GIZ', 'ECOSUR', 'UAM',\n",
       "       'UNIDAD DE SERVICIOS DE PATOLOGIA CLINICA', 'U GUADALAJARA',\n",
       "       'IT ORIZABA', 'U GUANAJUATO',\n",
       "       'INSTITUTO MEXICANO DE TECNOLOGIA DEL AGUA', 'UNAM', 'CIESAS',\n",
       "       'CONACULTA', 'COLPOS', 'IPN', 'UA ZACATECAS',\n",
       "       'CENTRO DE DERECHOS HUMANOS FRAY BARTOLOME DE LAS CASAS',\n",
       "       'IT LEON', 'CINVESTAV', 'PROBAYES AMERICAS',\n",
       "       'SECRETARIA  DE SALUD', 'UA BAJA CALIFORNIA',\n",
       "       'SOFTEK GLOBAL EDESIGN', 'U VERACRUZANA', 'UA SAN LUIS POTOSI',\n",
       "       'IT CELAYA', 'PRO NATURA', 'UA CIUDAD JUAREZ', 'IT TEPIC',\n",
       "       'UA COAHUILA', 'LANIA', 'HOSPITAL GENERAL DR. MANUEL GEA GONZALEZ',\n",
       "       'CETYS', 'CIO', 'COMERCIO JUSTO MEXICO', 'UA EDO MORELOS',\n",
       "       'INAPESCA', 'UA NUEVO LEON', 'CIMAV', 'UA YUCATAN',\n",
       "       'UA EDO HIDALGO', 'REUSSITE ADECCO', 'INCAN', 'UA CHIAPAS', 'MORA',\n",
       "       'U COLIMA', 'CIMAT', 'UPN', 'INNSZ', 'CIAD',\n",
       "       'CONSEJO PUEBLA DE LECTURA', 'UP PACHUCA', 'U DEL MAR',\n",
       "       'UA CAMPECHE', 'UA TLAXCALA', 'UA CHAPINGO', 'IT LA LAGUNA',\n",
       "       'COMITE DE DERECHOS HUMANOS FRAY PEDRO LORENZO DE LA NADA',\n",
       "       'U ESTATAL SONORA', 'SECRETARIA DE LA FUNCION PUBLICA', 'CICESE',\n",
       "       'U OCCIDENTE', 'CONEVAL', 'UA QUERETARO', 'CIQA', 'CIIDET',\n",
       "       'ITESM', 'CENIDET', 'SEMARNAT', 'UIA-PUEBLA',\n",
       "       'UA BAJA CALIFORNIA SUR', 'NUTEK', 'INECOL', 'FEMSA', 'UA SINALOA',\n",
       "       'INBA', 'CIBNOR', 'UA EDO MEXICO', 'U JUAREZ EDO DURANGO',\n",
       "       'UA BENITO JUAREZ OAXACA', 'NEMAK', 'UA AGUASCALIENTES', 'INAOE',\n",
       "       'GOBIERNO DEL ESTADO DE CHIAPAS', 'INAH', 'UA CIUDAD MEXICO',\n",
       "       'UIA',\n",
       "       'INSTITUTO NACIONAL DE NEUROLOGIA Y NEUROCIRUGIA MANUEL VELASCO SUAREZ',\n",
       "       'U QUINTANA ROO', 'CENTRO JURIDICO UNIVERSITARIO', 'COLMICH',\n",
       "       'ISSSTE',\n",
       "       'CENTRO DE INVESTIGACION Y DESARROLLO DE LOS RECURSOS NATURALES DE SONORA',\n",
       "       'U JUAREZ AUT TABASCO', 'UA NAYARIT', 'CICY',\n",
       "       'CENTRO NACIONAL DE METROLOGIA-CENAM', 'UA TAMAULIPAS',\n",
       "       'HOSPITAL INFANTIL DE MEXICO FEDERICO GOMEZ',\n",
       "       'INSTITUTO NACIONAL DE PSIQUIATRIA', 'IT SUPERIOR CALKINI',\n",
       "       'MIRACLE BUSINESS NETWORK',\n",
       "       'INSTITUTO DE OFTALMOLOGIA CONDE DE VALENCIANA', 'INSP', 'INEGI',\n",
       "       'CENTRO DE INVESTIGACIONES BIOLOGICAS', 'ININ', 'ERAT', 'COLMEX',\n",
       "       'MUNICIPIO DE SAN JERONIMO SOSOLA OAXACA',\n",
       "       'OBSERVATORIO URBANO DE LEON', 'IT MORELIA', 'SAGARPA',\n",
       "       'DISTRIBUIDORA DE MAQUINAS Y MUEBLES DE MERIDA', 'IT CHIHUAHUA',\n",
       "       'U MICH SNH',\n",
       "       'DIRECCION GENERAL DE EDUCACION SUPERIOR TECNOLOGICA',\n",
       "       'UA CHIHUAHUA', 'XENPAL', 'IT TUXTLA GUTIERREZ', 'IT VERACRUZ',\n",
       "       'IT MERIDA', 'GOBIERNO DEL ESTADO DE TABASCO',\n",
       "       'CENTRO DE INVESTIGACION DE CHIAPAS', 'U SONORA', 'CIATEJ',\n",
       "       'CIDESI', 'KERRY INGREDIENTS DE MEXICO', 'IT TIJUANA', 'IMSS',\n",
       "       'EDUCACION SUPERIOR DE CELAYA', 'INER',\n",
       "       'COMISION ESTATAL DE DERECHOS HUMANOS DE JALISCO',\n",
       "       'CENTRO DEL CAMBIO GLOBAL Y LA SUSTENTABILIDAD EN EL SURESTE-CCGSS',\n",
       "       'SEP', 'INSTITUTO DE INVESTIGACIONES CIENTIFICAS', 'UT LA MIXTECA',\n",
       "       'U CIENCIAS Y ARTES CHIAPAS', 'COLSON', 'IT SUPERIOR MULEGE',\n",
       "       'COLSAN', 'UDLA',\n",
       "       'CENTRO DE DERECHOS HUMANOS DE LA MONTANA TLACHINOLLAN',\n",
       "       'INSTITUTO NACIONAL DE PEDIATRIA', 'COLEF',\n",
       "       'HOSPITAL GENERAL DE MEXICO', 'ROBERT BOSCH SISTEMAS DE FRENOS',\n",
       "       'GRANJAS CARROLL DE MEXICO', 'OTRASENDA', 'VENUN INMOBILIARIA',\n",
       "       'INSTITUTO MEXICANO DEL TRANSPORTE', 'TESE', 'CIMMYT', 'MABE',\n",
       "       'UA HIDALGO', 'LASFALTO',\n",
       "       'INSTITUTO NACIONAL DE CARDIOLOGIA IGNACIO CHAVEZ',\n",
       "       'SISTEMAS DE DISENO E INGENIERIAS', 'IPICYT', 'UP CHIAPAS',\n",
       "       'MEDICA SUR', 'CIDETEQ', 'GOBIERNO DEL ESTADO DE YUCATAN',\n",
       "       'IT SUPERIOR SINALOA',\n",
       "       'INSTITUTO DE INVESTIGACIONES ELECTRICAS-IIE', 'UPAEP', 'CIATEC',\n",
       "       'COLMEXIQUENSE', 'IT CIUDAD MADERO', 'CIDE',\n",
       "       'CENTRO DE INVESTIGACIONES SOCIOLOGIA Y TECNOLOGIA',\n",
       "       'EATON TECHNOLOGIES', 'IT TLAJOMULCO',\n",
       "       'CENTRO DE INVESTIGACIONES Y DESAROLLO CONDUMEX',\n",
       "       'OAXACA AEROSPACE', 'U DE LA CIENEGA EDO MICHOACAN',\n",
       "       'U PAPALOAPAN', 'AYUNTAMIENTO MUNICIPAL DE TEXCOCO',\n",
       "       'HOSPITAL ABC', 'INSTITUTO NACIONAL DE PEDIATRIA-INP',\n",
       "       'MANUFACTURERA DE CIGUENALES DE MEXICO',\n",
       "       'CONGRESO DEL ESTADO DE SONORA', 'U DEL CARIBE',\n",
       "       'GOBIERNO DEL ESTADO DE ZACATECAS', 'IMP', 'IT SONORA',\n",
       "       'SECRETARIA DE SALUD', 'TAMSA', 'INSTITUTO NACIONAL DE GERIATRIA',\n",
       "       'HERMANOS EN EL CAMINO ALBERGUE DE MIGRANTES', 'UA GUERRERO',\n",
       "       'ZOOLOGICO GUADALAJARA', 'IT MAZATLAN', 'FLACSO',\n",
       "       'EXCARE LOS CABOS', 'CENAM',\n",
       "       'INSTITUTO INTERAMERICANO DE COOPERACION PARA LA AGRICULTURA',\n",
       "       'COMISION NACIONAL DE AREAS NATURALES PROTEGIDAS-CONANP',\n",
       "       'IT ENSENADA', 'ITESO', 'IT TUXTEPEC', 'VIZIC TECHNOLOGIES',\n",
       "       'ELVAN DE MEXICO', 'MINA VIRGEN DEL CARMEN', 'MEXFAM', 'ITAM',\n",
       "       'SOFTLOGIK', nan], dtype=object)"
      ]
     },
     "execution_count": 9,
     "metadata": {},
     "output_type": "execute_result"
    }
   ],
   "source": [
    "print(\"Ins. Destino\")\n",
    "df['INSTITUCION DESTINO'].unique()"
   ]
  },
  {
   "cell_type": "code",
   "execution_count": 10,
   "id": "7ef2215b-2afb-4f81-ab3e-9de74e40a795",
   "metadata": {},
   "outputs": [
    {
     "name": "stdout",
     "output_type": "stream",
     "text": [
      "Entidad Federativa\n"
     ]
    },
    {
     "data": {
      "text/plain": [
       "array(['PUEBLA', 'DURANGO', 'JALISCO', 'BAJA CALIFORNIA SUR', 'CHIAPAS',\n",
       "       'DISTRITO FEDERAL', 'VERACRUZ', 'GUANAJUATO', 'MORELOS',\n",
       "       'QUERETARO', 'MICHOACAN', 'ESTADO DE MEXICO', 'ZACATECAS',\n",
       "       'BAJA CALIFORNIA', 'SAN LUIS POTOSI', 'YUCATAN', 'CHIHUAHUA',\n",
       "       'NAYARIT', 'COAHUILA', 'NUEVO LEON', 'HIDALGO', 'COLIMA', 'OAXACA',\n",
       "       'CAMPECHE', 'TLAXCALA', 'SONORA', 'SINALOA', 'AGUASCALIENTES',\n",
       "       'QUINTANA ROO', 'TABASCO', 'TAMAULIPAS', 'GUERRERO', nan],\n",
       "      dtype=object)"
      ]
     },
     "execution_count": 10,
     "metadata": {},
     "output_type": "execute_result"
    }
   ],
   "source": [
    "print(\"Entidad Federativa\")\n",
    "df['ENTIDAD FEDERATIVA'].unique()"
   ]
  },
  {
   "cell_type": "code",
   "execution_count": 11,
   "id": "8ab05098-04b2-4def-9755-a226b24a4620",
   "metadata": {},
   "outputs": [
    {
     "name": "stdout",
     "output_type": "stream",
     "text": [
      "Genero\n"
     ]
    },
    {
     "data": {
      "text/plain": [
       "array(['F', 'M', nan], dtype=object)"
      ]
     },
     "execution_count": 11,
     "metadata": {},
     "output_type": "execute_result"
    }
   ],
   "source": [
    "print(\"Genero\")\n",
    "df['GENERO'].unique()"
   ]
  },
  {
   "cell_type": "code",
   "execution_count": 12,
   "id": "a814cd4f-0d49-4a02-89c2-820db3f56e9b",
   "metadata": {},
   "outputs": [],
   "source": [
    "#Cambiar el nombre de las columnas mapeando\n",
    "mapear_columnas = {\n",
    "    'APELLIDO PATERNO' : 'Apellido Paterno',\n",
    "    'APELLIDO MATERNO' : 'Apellido Materno',\n",
    "    'NOMBRE' : 'Nombre',\n",
    "    'AREA DE CONOCIMIENTO' : 'Area de Conocimiento',\n",
    "    'NIVEL' : 'Nivel',\n",
    "    'INSTITUCION DESTINO' : 'Institucion de Destino',\n",
    "    'ENTIDAD FEDERATIVA' : 'Entidad Federativa',\n",
    "    'GENERO' : 'Genero',\n",
    "}"
   ]
  },
  {
   "cell_type": "code",
   "execution_count": 13,
   "id": "81d2f9d1-ff1a-4433-8050-819c0eb2eeb7",
   "metadata": {},
   "outputs": [
    {
     "data": {
      "text/html": [
       "<div>\n",
       "<style scoped>\n",
       "    .dataframe tbody tr th:only-of-type {\n",
       "        vertical-align: middle;\n",
       "    }\n",
       "\n",
       "    .dataframe tbody tr th {\n",
       "        vertical-align: top;\n",
       "    }\n",
       "\n",
       "    .dataframe thead th {\n",
       "        text-align: right;\n",
       "    }\n",
       "</style>\n",
       "<table border=\"1\" class=\"dataframe\">\n",
       "  <thead>\n",
       "    <tr style=\"text-align: right;\">\n",
       "      <th></th>\n",
       "      <th>Apellido Paterno</th>\n",
       "      <th>Apellido Materno</th>\n",
       "      <th>Nombre</th>\n",
       "      <th>Area de Conocimiento</th>\n",
       "      <th>Nivel</th>\n",
       "      <th>Institucion de Destino</th>\n",
       "      <th>Entidad Federativa</th>\n",
       "      <th>Genero</th>\n",
       "    </tr>\n",
       "  </thead>\n",
       "  <tbody>\n",
       "    <tr>\n",
       "      <th>0</th>\n",
       "      <td>FERNANDEZ DE LARA</td>\n",
       "      <td>TORRES</td>\n",
       "      <td>PAOLA AYERIM</td>\n",
       "      <td>III. MEDICINA Y CS. DE LA SALUD</td>\n",
       "      <td>3. ESP</td>\n",
       "      <td>BUAP</td>\n",
       "      <td>PUEBLA</td>\n",
       "      <td>F</td>\n",
       "    </tr>\n",
       "    <tr>\n",
       "      <th>1</th>\n",
       "      <td>CASAS</td>\n",
       "      <td>ACEVEDO</td>\n",
       "      <td>AARON</td>\n",
       "      <td>VII. INGENIERIAS</td>\n",
       "      <td>2. MAE</td>\n",
       "      <td>IT DURANGO</td>\n",
       "      <td>DURANGO</td>\n",
       "      <td>M</td>\n",
       "    </tr>\n",
       "    <tr>\n",
       "      <th>2</th>\n",
       "      <td>ANTONIO</td>\n",
       "      <td>RUIZ</td>\n",
       "      <td>ABIF</td>\n",
       "      <td>VII. INGENIERIAS</td>\n",
       "      <td>2. MAE</td>\n",
       "      <td>SISTEMAS TECNICOS DE CONTROL</td>\n",
       "      <td>PUEBLA</td>\n",
       "      <td>M</td>\n",
       "    </tr>\n",
       "    <tr>\n",
       "      <th>3</th>\n",
       "      <td>MONTALVO</td>\n",
       "      <td>MARTINEZ</td>\n",
       "      <td>ABIGAIL</td>\n",
       "      <td>I. FISICO MATEMATICAS Y CS. DE LA TIERRA</td>\n",
       "      <td>2. MAE</td>\n",
       "      <td>INIFAP</td>\n",
       "      <td>JALISCO</td>\n",
       "      <td>F</td>\n",
       "    </tr>\n",
       "    <tr>\n",
       "      <th>4</th>\n",
       "      <td>COLIN</td>\n",
       "      <td>AGUILAR</td>\n",
       "      <td>ABILENE GISEH</td>\n",
       "      <td>II. BIOLOGIA Y QUIMICA</td>\n",
       "      <td>2. MAE</td>\n",
       "      <td>AGENCIA ALEMANA DE COOPERACION TECNICA-GIZ</td>\n",
       "      <td>BAJA CALIFORNIA SUR</td>\n",
       "      <td>F</td>\n",
       "    </tr>\n",
       "  </tbody>\n",
       "</table>\n",
       "</div>"
      ],
      "text/plain": [
       "    Apellido Paterno Apellido Materno         Nombre  \\\n",
       "0  FERNANDEZ DE LARA           TORRES   PAOLA AYERIM   \n",
       "1              CASAS          ACEVEDO          AARON   \n",
       "2            ANTONIO             RUIZ           ABIF   \n",
       "3           MONTALVO         MARTINEZ        ABIGAIL   \n",
       "4              COLIN          AGUILAR  ABILENE GISEH   \n",
       "\n",
       "                       Area de Conocimiento   Nivel  \\\n",
       "0           III. MEDICINA Y CS. DE LA SALUD  3. ESP   \n",
       "1                          VII. INGENIERIAS  2. MAE   \n",
       "2                          VII. INGENIERIAS  2. MAE   \n",
       "3  I. FISICO MATEMATICAS Y CS. DE LA TIERRA  2. MAE   \n",
       "4                    II. BIOLOGIA Y QUIMICA  2. MAE   \n",
       "\n",
       "                       Institucion de Destino   Entidad Federativa Genero  \n",
       "0                                        BUAP               PUEBLA      F  \n",
       "1                                  IT DURANGO              DURANGO      M  \n",
       "2                SISTEMAS TECNICOS DE CONTROL               PUEBLA      M  \n",
       "3                                      INIFAP              JALISCO      F  \n",
       "4  AGENCIA ALEMANA DE COOPERACION TECNICA-GIZ  BAJA CALIFORNIA SUR      F  "
      ]
     },
     "execution_count": 13,
     "metadata": {},
     "output_type": "execute_result"
    }
   ],
   "source": [
    "df = df.rename(columns=mapear_columnas)\n",
    "df.head()"
   ]
  },
  {
   "cell_type": "code",
   "execution_count": 14,
   "id": "f8fc1ec6-5ea3-4fe4-9734-72ae866a3b7d",
   "metadata": {},
   "outputs": [],
   "source": [
    "#Convertir los tipos de valor de object a categoricos\n",
    "columnas_categoricas = ['Apellido Paterno', 'Apellido Materno', 'Nombre', \n",
    "                       'Area de Conocimiento', 'Nivel', 'Institucion de Destino', \n",
    "                       'Entidad Federativa', 'Genero']\n",
    "\n",
    "df[columnas_categoricas] = df[columnas_categoricas].apply(lambda x: x.astype('category'))"
   ]
  },
  {
   "cell_type": "code",
   "execution_count": 15,
   "id": "47f53508-9de0-4fda-9d46-ed8abc4e2682",
   "metadata": {},
   "outputs": [
    {
     "data": {
      "text/plain": [
       "Apellido Paterno          category\n",
       "Apellido Materno          category\n",
       "Nombre                    category\n",
       "Area de Conocimiento      category\n",
       "Nivel                     category\n",
       "Institucion de Destino    category\n",
       "Entidad Federativa        category\n",
       "Genero                    category\n",
       "dtype: object"
      ]
     },
     "execution_count": 15,
     "metadata": {},
     "output_type": "execute_result"
    }
   ],
   "source": [
    "#Confirmando cambios\n",
    "df.dtypes"
   ]
  },
  {
   "cell_type": "code",
   "execution_count": 16,
   "id": "bf5fc0fd-f515-483f-8528-4cc337160bc3",
   "metadata": {},
   "outputs": [
    {
     "data": {
      "text/html": [
       "<div>\n",
       "<style scoped>\n",
       "    .dataframe tbody tr th:only-of-type {\n",
       "        vertical-align: middle;\n",
       "    }\n",
       "\n",
       "    .dataframe tbody tr th {\n",
       "        vertical-align: top;\n",
       "    }\n",
       "\n",
       "    .dataframe thead th {\n",
       "        text-align: right;\n",
       "    }\n",
       "</style>\n",
       "<table border=\"1\" class=\"dataframe\">\n",
       "  <thead>\n",
       "    <tr style=\"text-align: right;\">\n",
       "      <th></th>\n",
       "      <th>Apellido Paterno</th>\n",
       "      <th>Apellido Materno</th>\n",
       "      <th>Nombre</th>\n",
       "      <th>Area de Conocimiento</th>\n",
       "      <th>Nivel</th>\n",
       "      <th>Institucion de Destino</th>\n",
       "      <th>Entidad Federativa</th>\n",
       "      <th>Genero</th>\n",
       "    </tr>\n",
       "  </thead>\n",
       "  <tbody>\n",
       "    <tr>\n",
       "      <th>0</th>\n",
       "      <td>FERNANDEZ DE LARA</td>\n",
       "      <td>TORRES</td>\n",
       "      <td>PAOLA AYERIM</td>\n",
       "      <td>III. MEDICINA Y CS. DE LA SALUD</td>\n",
       "      <td>3. ESP</td>\n",
       "      <td>BUAP</td>\n",
       "      <td>PUEBLA</td>\n",
       "      <td>F</td>\n",
       "    </tr>\n",
       "    <tr>\n",
       "      <th>1</th>\n",
       "      <td>CASAS</td>\n",
       "      <td>ACEVEDO</td>\n",
       "      <td>AARON</td>\n",
       "      <td>VII. INGENIERIAS</td>\n",
       "      <td>2. MAE</td>\n",
       "      <td>IT DURANGO</td>\n",
       "      <td>DURANGO</td>\n",
       "      <td>M</td>\n",
       "    </tr>\n",
       "    <tr>\n",
       "      <th>2</th>\n",
       "      <td>ANTONIO</td>\n",
       "      <td>RUIZ</td>\n",
       "      <td>ABIF</td>\n",
       "      <td>VII. INGENIERIAS</td>\n",
       "      <td>2. MAE</td>\n",
       "      <td>SISTEMAS TECNICOS DE CONTROL</td>\n",
       "      <td>PUEBLA</td>\n",
       "      <td>M</td>\n",
       "    </tr>\n",
       "    <tr>\n",
       "      <th>3</th>\n",
       "      <td>MONTALVO</td>\n",
       "      <td>MARTINEZ</td>\n",
       "      <td>ABIGAIL</td>\n",
       "      <td>I. FISICO MATEMATICAS Y CS. DE LA TIERRA</td>\n",
       "      <td>2. MAE</td>\n",
       "      <td>INIFAP</td>\n",
       "      <td>JALISCO</td>\n",
       "      <td>F</td>\n",
       "    </tr>\n",
       "    <tr>\n",
       "      <th>4</th>\n",
       "      <td>COLIN</td>\n",
       "      <td>AGUILAR</td>\n",
       "      <td>ABILENE GISEH</td>\n",
       "      <td>II. BIOLOGIA Y QUIMICA</td>\n",
       "      <td>2. MAE</td>\n",
       "      <td>AGENCIA ALEMANA DE COOPERACION TECNICA-GIZ</td>\n",
       "      <td>BAJA CALIFORNIA SUR</td>\n",
       "      <td>F</td>\n",
       "    </tr>\n",
       "  </tbody>\n",
       "</table>\n",
       "</div>"
      ],
      "text/plain": [
       "    Apellido Paterno Apellido Materno         Nombre  \\\n",
       "0  FERNANDEZ DE LARA           TORRES   PAOLA AYERIM   \n",
       "1              CASAS          ACEVEDO          AARON   \n",
       "2            ANTONIO             RUIZ           ABIF   \n",
       "3           MONTALVO         MARTINEZ        ABIGAIL   \n",
       "4              COLIN          AGUILAR  ABILENE GISEH   \n",
       "\n",
       "                       Area de Conocimiento   Nivel  \\\n",
       "0           III. MEDICINA Y CS. DE LA SALUD  3. ESP   \n",
       "1                          VII. INGENIERIAS  2. MAE   \n",
       "2                          VII. INGENIERIAS  2. MAE   \n",
       "3  I. FISICO MATEMATICAS Y CS. DE LA TIERRA  2. MAE   \n",
       "4                    II. BIOLOGIA Y QUIMICA  2. MAE   \n",
       "\n",
       "                       Institucion de Destino   Entidad Federativa Genero  \n",
       "0                                        BUAP               PUEBLA      F  \n",
       "1                                  IT DURANGO              DURANGO      M  \n",
       "2                SISTEMAS TECNICOS DE CONTROL               PUEBLA      M  \n",
       "3                                      INIFAP              JALISCO      F  \n",
       "4  AGENCIA ALEMANA DE COOPERACION TECNICA-GIZ  BAJA CALIFORNIA SUR      F  "
      ]
     },
     "execution_count": 16,
     "metadata": {},
     "output_type": "execute_result"
    }
   ],
   "source": [
    "df.head()"
   ]
  },
  {
   "cell_type": "code",
   "execution_count": 17,
   "id": "6ac0ebe6-16bb-4d76-af4b-60260bd6ae63",
   "metadata": {},
   "outputs": [
    {
     "data": {
      "text/plain": [
       "Apellido Paterno          1047291\n",
       "Apellido Materno          1047297\n",
       "Nombre                    1047291\n",
       "Area de Conocimiento      1047291\n",
       "Nivel                     1047291\n",
       "Institucion de Destino    1047291\n",
       "Entidad Federativa        1047291\n",
       "Genero                    1047291\n",
       "dtype: int64"
      ]
     },
     "execution_count": 17,
     "metadata": {},
     "output_type": "execute_result"
    }
   ],
   "source": [
    "#Cantidad de valores nulos\n",
    "df.isnull().sum()\n"
   ]
  },
  {
   "cell_type": "code",
   "execution_count": 18,
   "id": "c79258f3-cfd9-4884-8833-ad95bfe8da91",
   "metadata": {},
   "outputs": [
    {
     "data": {
      "text/plain": [
       "(1048567, 8)"
      ]
     },
     "execution_count": 18,
     "metadata": {},
     "output_type": "execute_result"
    }
   ],
   "source": [
    "df.shape"
   ]
  },
  {
   "cell_type": "code",
   "execution_count": 19,
   "id": "2c048aff-dc11-41f6-9c86-c18ceb6d954e",
   "metadata": {},
   "outputs": [
    {
     "data": {
      "text/html": [
       "<div>\n",
       "<style scoped>\n",
       "    .dataframe tbody tr th:only-of-type {\n",
       "        vertical-align: middle;\n",
       "    }\n",
       "\n",
       "    .dataframe tbody tr th {\n",
       "        vertical-align: top;\n",
       "    }\n",
       "\n",
       "    .dataframe thead th {\n",
       "        text-align: right;\n",
       "    }\n",
       "</style>\n",
       "<table border=\"1\" class=\"dataframe\">\n",
       "  <thead>\n",
       "    <tr style=\"text-align: right;\">\n",
       "      <th></th>\n",
       "      <th>Apellido Paterno</th>\n",
       "      <th>Apellido Materno</th>\n",
       "      <th>Nombre</th>\n",
       "      <th>Area de Conocimiento</th>\n",
       "      <th>Nivel</th>\n",
       "      <th>Institucion de Destino</th>\n",
       "      <th>Entidad Federativa</th>\n",
       "      <th>Genero</th>\n",
       "    </tr>\n",
       "  </thead>\n",
       "  <tbody>\n",
       "    <tr>\n",
       "      <th>1048562</th>\n",
       "      <td>NaN</td>\n",
       "      <td>NaN</td>\n",
       "      <td>NaN</td>\n",
       "      <td>NaN</td>\n",
       "      <td>NaN</td>\n",
       "      <td>NaN</td>\n",
       "      <td>NaN</td>\n",
       "      <td>NaN</td>\n",
       "    </tr>\n",
       "    <tr>\n",
       "      <th>1048563</th>\n",
       "      <td>NaN</td>\n",
       "      <td>NaN</td>\n",
       "      <td>NaN</td>\n",
       "      <td>NaN</td>\n",
       "      <td>NaN</td>\n",
       "      <td>NaN</td>\n",
       "      <td>NaN</td>\n",
       "      <td>NaN</td>\n",
       "    </tr>\n",
       "    <tr>\n",
       "      <th>1048564</th>\n",
       "      <td>NaN</td>\n",
       "      <td>NaN</td>\n",
       "      <td>NaN</td>\n",
       "      <td>NaN</td>\n",
       "      <td>NaN</td>\n",
       "      <td>NaN</td>\n",
       "      <td>NaN</td>\n",
       "      <td>NaN</td>\n",
       "    </tr>\n",
       "    <tr>\n",
       "      <th>1048565</th>\n",
       "      <td>NaN</td>\n",
       "      <td>NaN</td>\n",
       "      <td>NaN</td>\n",
       "      <td>NaN</td>\n",
       "      <td>NaN</td>\n",
       "      <td>NaN</td>\n",
       "      <td>NaN</td>\n",
       "      <td>NaN</td>\n",
       "    </tr>\n",
       "    <tr>\n",
       "      <th>1048566</th>\n",
       "      <td>NaN</td>\n",
       "      <td>NaN</td>\n",
       "      <td>NaN</td>\n",
       "      <td>NaN</td>\n",
       "      <td>NaN</td>\n",
       "      <td>NaN</td>\n",
       "      <td>NaN</td>\n",
       "      <td>NaN</td>\n",
       "    </tr>\n",
       "  </tbody>\n",
       "</table>\n",
       "</div>"
      ],
      "text/plain": [
       "        Apellido Paterno Apellido Materno Nombre Area de Conocimiento Nivel  \\\n",
       "1048562              NaN              NaN    NaN                  NaN   NaN   \n",
       "1048563              NaN              NaN    NaN                  NaN   NaN   \n",
       "1048564              NaN              NaN    NaN                  NaN   NaN   \n",
       "1048565              NaN              NaN    NaN                  NaN   NaN   \n",
       "1048566              NaN              NaN    NaN                  NaN   NaN   \n",
       "\n",
       "        Institucion de Destino Entidad Federativa Genero  \n",
       "1048562                    NaN                NaN    NaN  \n",
       "1048563                    NaN                NaN    NaN  \n",
       "1048564                    NaN                NaN    NaN  \n",
       "1048565                    NaN                NaN    NaN  \n",
       "1048566                    NaN                NaN    NaN  "
      ]
     },
     "execution_count": 19,
     "metadata": {},
     "output_type": "execute_result"
    }
   ],
   "source": [
    "df.tail()"
   ]
  },
  {
   "cell_type": "code",
   "execution_count": 20,
   "id": "543af4c8-b5b2-4e05-b9ed-c0a093cf91ac",
   "metadata": {},
   "outputs": [],
   "source": [
    "#Existe filas totalmente nulas, por lo cual hay que eliminarlas\n",
    "df = df.dropna()"
   ]
  },
  {
   "cell_type": "code",
   "execution_count": 21,
   "id": "5c452b23-62d9-4a6b-9b1e-4b49382f51ee",
   "metadata": {},
   "outputs": [
    {
     "data": {
      "text/html": [
       "<div>\n",
       "<style scoped>\n",
       "    .dataframe tbody tr th:only-of-type {\n",
       "        vertical-align: middle;\n",
       "    }\n",
       "\n",
       "    .dataframe tbody tr th {\n",
       "        vertical-align: top;\n",
       "    }\n",
       "\n",
       "    .dataframe thead th {\n",
       "        text-align: right;\n",
       "    }\n",
       "</style>\n",
       "<table border=\"1\" class=\"dataframe\">\n",
       "  <thead>\n",
       "    <tr style=\"text-align: right;\">\n",
       "      <th></th>\n",
       "      <th>Apellido Paterno</th>\n",
       "      <th>Apellido Materno</th>\n",
       "      <th>Nombre</th>\n",
       "      <th>Area de Conocimiento</th>\n",
       "      <th>Nivel</th>\n",
       "      <th>Institucion de Destino</th>\n",
       "      <th>Entidad Federativa</th>\n",
       "      <th>Genero</th>\n",
       "    </tr>\n",
       "  </thead>\n",
       "  <tbody>\n",
       "    <tr>\n",
       "      <th>1271</th>\n",
       "      <td>LEAL</td>\n",
       "      <td>RODRIGUEZ</td>\n",
       "      <td>ROBERTO</td>\n",
       "      <td>VII. INGENIERIAS</td>\n",
       "      <td>2. MAE</td>\n",
       "      <td>CENTRO DE INVESTIGACIONES Y DESAROLLO CONDUMEX</td>\n",
       "      <td>DISTRITO FEDERAL</td>\n",
       "      <td>M</td>\n",
       "    </tr>\n",
       "    <tr>\n",
       "      <th>1272</th>\n",
       "      <td>VASQUEZ</td>\n",
       "      <td>GUTIERREZ</td>\n",
       "      <td>ROMALDA</td>\n",
       "      <td>V. CIENCIAS SOCIALES</td>\n",
       "      <td>2. MAE</td>\n",
       "      <td>CINVESTAV</td>\n",
       "      <td>DISTRITO FEDERAL</td>\n",
       "      <td>F</td>\n",
       "    </tr>\n",
       "    <tr>\n",
       "      <th>1273</th>\n",
       "      <td>PACHECO</td>\n",
       "      <td>COETO</td>\n",
       "      <td>ROSARIO</td>\n",
       "      <td>VII. INGENIERIAS</td>\n",
       "      <td>2. MAE</td>\n",
       "      <td>UNAM</td>\n",
       "      <td>DISTRITO FEDERAL</td>\n",
       "      <td>F</td>\n",
       "    </tr>\n",
       "    <tr>\n",
       "      <th>1274</th>\n",
       "      <td>RENTERIA</td>\n",
       "      <td>FLORES</td>\n",
       "      <td>VIRGINIA</td>\n",
       "      <td>IV. HUMANIDADES Y CS. DE LA CONDUCTA</td>\n",
       "      <td>2. MAE</td>\n",
       "      <td>UA NAYARIT</td>\n",
       "      <td>NAYARIT</td>\n",
       "      <td>F</td>\n",
       "    </tr>\n",
       "    <tr>\n",
       "      <th>1275</th>\n",
       "      <td>JARVIO</td>\n",
       "      <td>HERNANDEZ</td>\n",
       "      <td>YADIRA</td>\n",
       "      <td>VII. INGENIERIAS</td>\n",
       "      <td>2. MAE</td>\n",
       "      <td>SOFTLOGIK</td>\n",
       "      <td>ZACATECAS</td>\n",
       "      <td>M</td>\n",
       "    </tr>\n",
       "  </tbody>\n",
       "</table>\n",
       "</div>"
      ],
      "text/plain": [
       "     Apellido Paterno Apellido Materno      Nombre  \\\n",
       "1271             LEAL        RODRIGUEZ   ROBERTO     \n",
       "1272          VASQUEZ        GUTIERREZ   ROMALDA     \n",
       "1273          PACHECO            COETO   ROSARIO     \n",
       "1274         RENTERIA           FLORES  VIRGINIA     \n",
       "1275           JARVIO        HERNANDEZ    YADIRA     \n",
       "\n",
       "                      Area de Conocimiento   Nivel  \\\n",
       "1271                      VII. INGENIERIAS  2. MAE   \n",
       "1272                  V. CIENCIAS SOCIALES  2. MAE   \n",
       "1273                      VII. INGENIERIAS  2. MAE   \n",
       "1274  IV. HUMANIDADES Y CS. DE LA CONDUCTA  2. MAE   \n",
       "1275                      VII. INGENIERIAS  2. MAE   \n",
       "\n",
       "                              Institucion de Destino Entidad Federativa Genero  \n",
       "1271  CENTRO DE INVESTIGACIONES Y DESAROLLO CONDUMEX   DISTRITO FEDERAL      M  \n",
       "1272                                       CINVESTAV   DISTRITO FEDERAL      F  \n",
       "1273                                            UNAM   DISTRITO FEDERAL      F  \n",
       "1274                                      UA NAYARIT            NAYARIT      F  \n",
       "1275                                       SOFTLOGIK          ZACATECAS      M  "
      ]
     },
     "execution_count": 21,
     "metadata": {},
     "output_type": "execute_result"
    }
   ],
   "source": [
    "#Confirmando\n",
    "df.tail()"
   ]
  },
  {
   "cell_type": "code",
   "execution_count": 22,
   "id": "d6da2745-e586-4d19-84fd-ea32f8f5736d",
   "metadata": {},
   "outputs": [],
   "source": [
    "df = df.drop(['Apellido Paterno', 'Apellido Materno', 'Nombre'], axis = 1)"
   ]
  },
  {
   "cell_type": "code",
   "execution_count": 23,
   "id": "c6820c7b-5523-4456-8011-a08a346140f6",
   "metadata": {},
   "outputs": [
    {
     "data": {
      "text/html": [
       "<div>\n",
       "<style scoped>\n",
       "    .dataframe tbody tr th:only-of-type {\n",
       "        vertical-align: middle;\n",
       "    }\n",
       "\n",
       "    .dataframe tbody tr th {\n",
       "        vertical-align: top;\n",
       "    }\n",
       "\n",
       "    .dataframe thead th {\n",
       "        text-align: right;\n",
       "    }\n",
       "</style>\n",
       "<table border=\"1\" class=\"dataframe\">\n",
       "  <thead>\n",
       "    <tr style=\"text-align: right;\">\n",
       "      <th></th>\n",
       "      <th>Area de Conocimiento</th>\n",
       "      <th>Nivel</th>\n",
       "      <th>Institucion de Destino</th>\n",
       "      <th>Entidad Federativa</th>\n",
       "      <th>Genero</th>\n",
       "    </tr>\n",
       "  </thead>\n",
       "  <tbody>\n",
       "    <tr>\n",
       "      <th>0</th>\n",
       "      <td>III. MEDICINA Y CS. DE LA SALUD</td>\n",
       "      <td>3. ESP</td>\n",
       "      <td>BUAP</td>\n",
       "      <td>PUEBLA</td>\n",
       "      <td>F</td>\n",
       "    </tr>\n",
       "    <tr>\n",
       "      <th>1</th>\n",
       "      <td>VII. INGENIERIAS</td>\n",
       "      <td>2. MAE</td>\n",
       "      <td>IT DURANGO</td>\n",
       "      <td>DURANGO</td>\n",
       "      <td>M</td>\n",
       "    </tr>\n",
       "    <tr>\n",
       "      <th>2</th>\n",
       "      <td>VII. INGENIERIAS</td>\n",
       "      <td>2. MAE</td>\n",
       "      <td>SISTEMAS TECNICOS DE CONTROL</td>\n",
       "      <td>PUEBLA</td>\n",
       "      <td>M</td>\n",
       "    </tr>\n",
       "    <tr>\n",
       "      <th>3</th>\n",
       "      <td>I. FISICO MATEMATICAS Y CS. DE LA TIERRA</td>\n",
       "      <td>2. MAE</td>\n",
       "      <td>INIFAP</td>\n",
       "      <td>JALISCO</td>\n",
       "      <td>F</td>\n",
       "    </tr>\n",
       "    <tr>\n",
       "      <th>4</th>\n",
       "      <td>II. BIOLOGIA Y QUIMICA</td>\n",
       "      <td>2. MAE</td>\n",
       "      <td>AGENCIA ALEMANA DE COOPERACION TECNICA-GIZ</td>\n",
       "      <td>BAJA CALIFORNIA SUR</td>\n",
       "      <td>F</td>\n",
       "    </tr>\n",
       "  </tbody>\n",
       "</table>\n",
       "</div>"
      ],
      "text/plain": [
       "                       Area de Conocimiento   Nivel  \\\n",
       "0           III. MEDICINA Y CS. DE LA SALUD  3. ESP   \n",
       "1                          VII. INGENIERIAS  2. MAE   \n",
       "2                          VII. INGENIERIAS  2. MAE   \n",
       "3  I. FISICO MATEMATICAS Y CS. DE LA TIERRA  2. MAE   \n",
       "4                    II. BIOLOGIA Y QUIMICA  2. MAE   \n",
       "\n",
       "                       Institucion de Destino   Entidad Federativa Genero  \n",
       "0                                        BUAP               PUEBLA      F  \n",
       "1                                  IT DURANGO              DURANGO      M  \n",
       "2                SISTEMAS TECNICOS DE CONTROL               PUEBLA      M  \n",
       "3                                      INIFAP              JALISCO      F  \n",
       "4  AGENCIA ALEMANA DE COOPERACION TECNICA-GIZ  BAJA CALIFORNIA SUR      F  "
      ]
     },
     "execution_count": 23,
     "metadata": {},
     "output_type": "execute_result"
    }
   ],
   "source": [
    "df.head()"
   ]
  },
  {
   "cell_type": "code",
   "execution_count": 24,
   "id": "6b68cd03-459b-4923-b1cb-9a534234b544",
   "metadata": {},
   "outputs": [],
   "source": [
    "mapear_areas_conocimiento = {\n",
    "    'I. FISICO MATEMATICAS Y CS. DE LA TIERRA' : 'Fisico Matematicas y CS. De la Tierra',\n",
    "    'II. BIOLOGIA Y QUIMICA' : 'Biologia y Quimica',\n",
    "    'III. MEDICINA Y CS. DE LA SALUD' : 'Medicina y CS. De la Salud',\n",
    "    'IV. HUMANIDADES Y CS. DE LA CONDUCTA' : 'Humanidades y CS. De la Conducta', \n",
    "    'V. CIENCIAS SOCIALES' : 'Ciencias Sociales',\n",
    "    'VI. BIOTECNOLOGIA Y CS. AGROPECUARIAS' : 'Biotecnologia y CS. Agropecuarias',\n",
    "    'VII. INGENIERIAS' : 'Ingenierias'\n",
    "}"
   ]
  },
  {
   "cell_type": "code",
   "execution_count": 25,
   "id": "99f6b724-42c0-48b8-b778-2296ebaf3d1d",
   "metadata": {},
   "outputs": [],
   "source": [
    "df['Area de Conocimiento'] = df['Area de Conocimiento'].map(mapear_areas_conocimiento)"
   ]
  },
  {
   "cell_type": "code",
   "execution_count": 26,
   "id": "88bd644e-6a58-4d5b-a94d-c0bbff0b9a43",
   "metadata": {},
   "outputs": [
    {
     "data": {
      "text/html": [
       "<div>\n",
       "<style scoped>\n",
       "    .dataframe tbody tr th:only-of-type {\n",
       "        vertical-align: middle;\n",
       "    }\n",
       "\n",
       "    .dataframe tbody tr th {\n",
       "        vertical-align: top;\n",
       "    }\n",
       "\n",
       "    .dataframe thead th {\n",
       "        text-align: right;\n",
       "    }\n",
       "</style>\n",
       "<table border=\"1\" class=\"dataframe\">\n",
       "  <thead>\n",
       "    <tr style=\"text-align: right;\">\n",
       "      <th></th>\n",
       "      <th>Area de Conocimiento</th>\n",
       "      <th>Nivel</th>\n",
       "      <th>Institucion de Destino</th>\n",
       "      <th>Entidad Federativa</th>\n",
       "      <th>Genero</th>\n",
       "    </tr>\n",
       "  </thead>\n",
       "  <tbody>\n",
       "    <tr>\n",
       "      <th>0</th>\n",
       "      <td>Medicina y CS. De la Salud</td>\n",
       "      <td>3. ESP</td>\n",
       "      <td>BUAP</td>\n",
       "      <td>PUEBLA</td>\n",
       "      <td>F</td>\n",
       "    </tr>\n",
       "    <tr>\n",
       "      <th>1</th>\n",
       "      <td>Ingenierias</td>\n",
       "      <td>2. MAE</td>\n",
       "      <td>IT DURANGO</td>\n",
       "      <td>DURANGO</td>\n",
       "      <td>M</td>\n",
       "    </tr>\n",
       "    <tr>\n",
       "      <th>2</th>\n",
       "      <td>Ingenierias</td>\n",
       "      <td>2. MAE</td>\n",
       "      <td>SISTEMAS TECNICOS DE CONTROL</td>\n",
       "      <td>PUEBLA</td>\n",
       "      <td>M</td>\n",
       "    </tr>\n",
       "    <tr>\n",
       "      <th>3</th>\n",
       "      <td>Fisico Matematicas y CS. De la Tierra</td>\n",
       "      <td>2. MAE</td>\n",
       "      <td>INIFAP</td>\n",
       "      <td>JALISCO</td>\n",
       "      <td>F</td>\n",
       "    </tr>\n",
       "    <tr>\n",
       "      <th>4</th>\n",
       "      <td>Biologia y Quimica</td>\n",
       "      <td>2. MAE</td>\n",
       "      <td>AGENCIA ALEMANA DE COOPERACION TECNICA-GIZ</td>\n",
       "      <td>BAJA CALIFORNIA SUR</td>\n",
       "      <td>F</td>\n",
       "    </tr>\n",
       "  </tbody>\n",
       "</table>\n",
       "</div>"
      ],
      "text/plain": [
       "                    Area de Conocimiento   Nivel  \\\n",
       "0             Medicina y CS. De la Salud  3. ESP   \n",
       "1                            Ingenierias  2. MAE   \n",
       "2                            Ingenierias  2. MAE   \n",
       "3  Fisico Matematicas y CS. De la Tierra  2. MAE   \n",
       "4                     Biologia y Quimica  2. MAE   \n",
       "\n",
       "                       Institucion de Destino   Entidad Federativa Genero  \n",
       "0                                        BUAP               PUEBLA      F  \n",
       "1                                  IT DURANGO              DURANGO      M  \n",
       "2                SISTEMAS TECNICOS DE CONTROL               PUEBLA      M  \n",
       "3                                      INIFAP              JALISCO      F  \n",
       "4  AGENCIA ALEMANA DE COOPERACION TECNICA-GIZ  BAJA CALIFORNIA SUR      F  "
      ]
     },
     "execution_count": 26,
     "metadata": {},
     "output_type": "execute_result"
    }
   ],
   "source": [
    "df.head()"
   ]
  },
  {
   "cell_type": "code",
   "execution_count": 27,
   "id": "e626b150-1ead-4e3a-909c-81fb30ce2231",
   "metadata": {},
   "outputs": [],
   "source": [
    "mapear_nivel = {\n",
    "    '3. ESP' : 'Especialidad', \n",
    "    '2. MAE' : 'Maestria', \n",
    "    '1. DOC' : 'Doctorado'\n",
    "}"
   ]
  },
  {
   "cell_type": "code",
   "execution_count": null,
   "id": "1fa47b62-ba42-40d0-a613-56cec918b904",
   "metadata": {},
   "outputs": [],
   "source": [
    "df['Nivel'] = df['Nivel'].map(mapear_nivel)"
   ]
  }
 ],
 "metadata": {
  "kernelspec": {
   "display_name": "Python 3 (ipykernel)",
   "language": "python",
   "name": "python3"
  },
  "language_info": {
   "codemirror_mode": {
    "name": "ipython",
    "version": 3
   },
   "file_extension": ".py",
   "mimetype": "text/x-python",
   "name": "python",
   "nbconvert_exporter": "python",
   "pygments_lexer": "ipython3",
   "version": "3.13.0"
  }
 },
 "nbformat": 4,
 "nbformat_minor": 5
}
