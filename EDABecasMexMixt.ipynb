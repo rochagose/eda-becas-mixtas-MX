{
 "cells": [
  {
   "cell_type": "code",
   "execution_count": 1,
   "id": "49cde628-650b-403d-8bbe-eb4ed47d3daf",
   "metadata": {},
   "outputs": [],
   "source": [
    "#Librerías\n",
    "import pandas as pd\n",
    "import matplotlib.pyplot as plt\n",
    "import chardet"
   ]
  },
  {
   "cell_type": "code",
   "execution_count": 2,
   "id": "7354a397-a9bc-4bc5-8075-424c4e9f4b69",
   "metadata": {},
   "outputs": [],
   "source": [
    "#Obtener el tipo de encode\n",
    "with open(\"dataset.csv\", \"rb\") as file:\n",
    "    raw_data = file.read()\n",
    "    result = chardet.detect(raw_data)\n",
    "    encoding = result['encoding']"
   ]
  },
  {
   "cell_type": "code",
   "execution_count": 3,
   "id": "b37715fa-b5d0-4ed1-9f77-3982b770944f",
   "metadata": {},
   "outputs": [
    {
     "data": {
      "text/html": [
       "<div>\n",
       "<style scoped>\n",
       "    .dataframe tbody tr th:only-of-type {\n",
       "        vertical-align: middle;\n",
       "    }\n",
       "\n",
       "    .dataframe tbody tr th {\n",
       "        vertical-align: top;\n",
       "    }\n",
       "\n",
       "    .dataframe thead th {\n",
       "        text-align: right;\n",
       "    }\n",
       "</style>\n",
       "<table border=\"1\" class=\"dataframe\">\n",
       "  <thead>\n",
       "    <tr style=\"text-align: right;\">\n",
       "      <th></th>\n",
       "      <th>APELLIDO PATERNO</th>\n",
       "      <th>APELLIDO MATERNO</th>\n",
       "      <th>NOMBRE</th>\n",
       "      <th>AREA DE CONOCIMIENTO</th>\n",
       "      <th>NIVEL</th>\n",
       "      <th>INSTITUCION DESTINO</th>\n",
       "      <th>ENTIDAD FEDERATIVA</th>\n",
       "      <th>GENERO</th>\n",
       "    </tr>\n",
       "  </thead>\n",
       "  <tbody>\n",
       "    <tr>\n",
       "      <th>0</th>\n",
       "      <td>FERNANDEZ DE LARA</td>\n",
       "      <td>TORRES</td>\n",
       "      <td>PAOLA AYERIM</td>\n",
       "      <td>III. MEDICINA Y CS. DE LA SALUD</td>\n",
       "      <td>3. ESP</td>\n",
       "      <td>BUAP</td>\n",
       "      <td>PUEBLA</td>\n",
       "      <td>F</td>\n",
       "    </tr>\n",
       "    <tr>\n",
       "      <th>1</th>\n",
       "      <td>CASAS</td>\n",
       "      <td>ACEVEDO</td>\n",
       "      <td>AARON</td>\n",
       "      <td>VII. INGENIERIAS</td>\n",
       "      <td>2. MAE</td>\n",
       "      <td>IT DURANGO</td>\n",
       "      <td>DURANGO</td>\n",
       "      <td>M</td>\n",
       "    </tr>\n",
       "    <tr>\n",
       "      <th>2</th>\n",
       "      <td>ANTONIO</td>\n",
       "      <td>RUIZ</td>\n",
       "      <td>ABIF</td>\n",
       "      <td>VII. INGENIERIAS</td>\n",
       "      <td>2. MAE</td>\n",
       "      <td>SISTEMAS TECNICOS DE CONTROL</td>\n",
       "      <td>PUEBLA</td>\n",
       "      <td>M</td>\n",
       "    </tr>\n",
       "    <tr>\n",
       "      <th>3</th>\n",
       "      <td>MONTALVO</td>\n",
       "      <td>MARTINEZ</td>\n",
       "      <td>ABIGAIL</td>\n",
       "      <td>I. FISICO MATEMATICAS Y CS. DE LA TIERRA</td>\n",
       "      <td>2. MAE</td>\n",
       "      <td>INIFAP</td>\n",
       "      <td>JALISCO</td>\n",
       "      <td>F</td>\n",
       "    </tr>\n",
       "    <tr>\n",
       "      <th>4</th>\n",
       "      <td>COLIN</td>\n",
       "      <td>AGUILAR</td>\n",
       "      <td>ABILENE GISEH</td>\n",
       "      <td>II. BIOLOGIA Y QUIMICA</td>\n",
       "      <td>2. MAE</td>\n",
       "      <td>AGENCIA ALEMANA DE COOPERACION TECNICA-GIZ</td>\n",
       "      <td>BAJA CALIFORNIA SUR</td>\n",
       "      <td>F</td>\n",
       "    </tr>\n",
       "  </tbody>\n",
       "</table>\n",
       "</div>"
      ],
      "text/plain": [
       "    APELLIDO PATERNO APELLIDO MATERNO         NOMBRE  \\\n",
       "0  FERNANDEZ DE LARA           TORRES   PAOLA AYERIM   \n",
       "1              CASAS          ACEVEDO          AARON   \n",
       "2            ANTONIO             RUIZ           ABIF   \n",
       "3           MONTALVO         MARTINEZ        ABIGAIL   \n",
       "4              COLIN          AGUILAR  ABILENE GISEH   \n",
       "\n",
       "                       AREA DE CONOCIMIENTO   NIVEL  \\\n",
       "0           III. MEDICINA Y CS. DE LA SALUD  3. ESP   \n",
       "1                          VII. INGENIERIAS  2. MAE   \n",
       "2                          VII. INGENIERIAS  2. MAE   \n",
       "3  I. FISICO MATEMATICAS Y CS. DE LA TIERRA  2. MAE   \n",
       "4                    II. BIOLOGIA Y QUIMICA  2. MAE   \n",
       "\n",
       "                          INSTITUCION DESTINO   ENTIDAD FEDERATIVA GENERO  \n",
       "0                                        BUAP               PUEBLA      F  \n",
       "1                                  IT DURANGO              DURANGO      M  \n",
       "2                SISTEMAS TECNICOS DE CONTROL               PUEBLA      M  \n",
       "3                                      INIFAP              JALISCO      F  \n",
       "4  AGENCIA ALEMANA DE COOPERACION TECNICA-GIZ  BAJA CALIFORNIA SUR      F  "
      ]
     },
     "execution_count": 3,
     "metadata": {},
     "output_type": "execute_result"
    }
   ],
   "source": [
    "#Cargar dataframe con el encode obtenido.\n",
    "#low_memory para forzar a pandas a cargar el df antes de decidir el tipo de dato\n",
    "df = pd.read_csv(\"dataset.csv\", encoding = encoding, low_memory = False)\n",
    "df.head()"
   ]
  },
  {
   "cell_type": "code",
   "execution_count": 4,
   "id": "e6fcf165-4626-46c3-a5d1-2dd86933f345",
   "metadata": {},
   "outputs": [
    {
     "data": {
      "text/plain": [
       "APELLIDO PATERNO        object\n",
       "APELLIDO MATERNO        object\n",
       "NOMBRE                  object\n",
       "AREA DE CONOCIMIENTO    object\n",
       "NIVEL                   object\n",
       "INSTITUCION DESTINO     object\n",
       "ENTIDAD FEDERATIVA      object\n",
       "GENERO                  object\n",
       "dtype: object"
      ]
     },
     "execution_count": 4,
     "metadata": {},
     "output_type": "execute_result"
    }
   ],
   "source": [
    "#Tipo de valor por columna\n",
    "df.dtypes"
   ]
  },
  {
   "cell_type": "code",
   "execution_count": 8,
   "id": "9e32ba6f-1be0-42ff-9d89-47fbb07b0660",
   "metadata": {},
   "outputs": [
    {
     "name": "stdout",
     "output_type": "stream",
     "text": [
      "Area de conocimiento\n"
     ]
    },
    {
     "data": {
      "text/plain": [
       "array(['III. MEDICINA Y CS. DE LA SALUD', 'VII. INGENIERIAS',\n",
       "       'I. FISICO MATEMATICAS Y CS. DE LA TIERRA',\n",
       "       'II. BIOLOGIA Y QUIMICA', 'IV. HUMANIDADES Y CS. DE LA CONDUCTA',\n",
       "       'VI. BIOTECNOLOGIA Y CS. AGROPECUARIAS', 'V. CIENCIAS SOCIALES',\n",
       "       nan], dtype=object)"
      ]
     },
     "execution_count": 8,
     "metadata": {},
     "output_type": "execute_result"
    }
   ],
   "source": [
    "#Rango de datos unicos por columna\n",
    "print(\"Area de conocimiento\")\n",
    "df['AREA DE CONOCIMIENTO'].unique()"
   ]
  },
  {
   "cell_type": "code",
   "execution_count": 9,
   "id": "72706812-3aab-43bf-a7b4-24ab7a231e4d",
   "metadata": {},
   "outputs": [
    {
     "name": "stdout",
     "output_type": "stream",
     "text": [
      "Nivel\n"
     ]
    },
    {
     "data": {
      "text/plain": [
       "array(['3. ESP', '2. MAE', '1. DOC', nan], dtype=object)"
      ]
     },
     "execution_count": 9,
     "metadata": {},
     "output_type": "execute_result"
    }
   ],
   "source": [
    "print(\"Nivel\")\n",
    "df['NIVEL'].unique()"
   ]
  },
  {
   "cell_type": "code",
   "execution_count": null,
   "id": "a814cd4f-0d49-4a02-89c2-820db3f56e9b",
   "metadata": {},
   "outputs": [],
   "source": [
    "#Cambiar el nombre de las columnas mapeando\n",
    "mapear_columnas = {\n",
    "    'APELLIDO PATERNO' : 'Apellido Paterno',\n",
    "    'APELLIDO MATERNO' : 'Apellido Materno',\n",
    "    'NOMBRE' : 'Nombre',\n",
    "    'AREA DE CONOCIMIENTO' : 'Area de Conocimiento',\n",
    "    'NIVEL' : 'Nivel',\n",
    "    'INSTITUCION DESTINO' : 'Institucion de Destino',\n",
    "    'ENTIDAD FEDERATIVA' : 'Entidad Federativa',\n",
    "    'GENERO' : 'Genero',\n",
    "}"
   ]
  },
  {
   "cell_type": "code",
   "execution_count": null,
   "id": "81d2f9d1-ff1a-4433-8050-819c0eb2eeb7",
   "metadata": {},
   "outputs": [],
   "source": [
    "df = df.rename(columns=mapear_columnas)\n",
    "df.head()"
   ]
  },
  {
   "cell_type": "code",
   "execution_count": null,
   "id": "f8fc1ec6-5ea3-4fe4-9734-72ae866a3b7d",
   "metadata": {},
   "outputs": [],
   "source": []
  }
 ],
 "metadata": {
  "kernelspec": {
   "display_name": "Python 3 (ipykernel)",
   "language": "python",
   "name": "python3"
  },
  "language_info": {
   "codemirror_mode": {
    "name": "ipython",
    "version": 3
   },
   "file_extension": ".py",
   "mimetype": "text/x-python",
   "name": "python",
   "nbconvert_exporter": "python",
   "pygments_lexer": "ipython3",
   "version": "3.13.0"
  }
 },
 "nbformat": 4,
 "nbformat_minor": 5
}
